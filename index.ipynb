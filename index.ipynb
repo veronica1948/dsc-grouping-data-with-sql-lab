{
 "cells": [
  {
   "cell_type": "markdown",
   "metadata": {},
   "source": [
    "# Grouping Data with SQL - Lab"
   ]
  },
  {
   "cell_type": "markdown",
   "metadata": {},
   "source": [
    "## Introduction\n",
    "\n",
    "In this lab, you'll query data from a table populated with Babe Ruth's career hitting statistics.  Then you'll use aggregate functions to pull interesting information from the table that basic queries cannot track. "
   ]
  },
  {
   "cell_type": "markdown",
   "metadata": {},
   "source": [
    "## Objectives"
   ]
  },
  {
   "cell_type": "markdown",
   "metadata": {},
   "source": [
    "* Describe the relationship between aggregate functions and `GROUP BY` statements\n",
    "* Use `Group BY` statements in SQL to apply aggregate functions like: `COUNT`, `MAX`, `MIN`, and `SUM`\n",
    "* Create an alias in a SQL query\n",
    "* Use the `HAVING` clause to compare different aggregates\n",
    "* Compare the difference between the `WHERE` and `HAVING` clause"
   ]
  },
  {
   "cell_type": "markdown",
   "metadata": {},
   "source": [
    "## Babe Ruth - Career Hitting Statistics\n",
    "\n",
    "The database you will be working with in this lab is located in the file `babe_ruth.db`. This database contains a single table, `babe_ruth_stats`. The table schema is:\n",
    "\n",
    "```\n",
    "CREATE TABLE babe_ruth_stats (\n",
    "  id INTEGER PRIMARY KEY,\n",
    "  year INTEGER,\n",
    "  team TEXT,\n",
    "  league TEXT,\n",
    "  doubles INTEGER,\n",
    "  triples INTEGER,\n",
    "  hits INTEGER,\n",
    "  HR INTEGER,\n",
    "  games INTEGER,\n",
    "  runs INTEGER,\n",
    "  RBI INTEGER,\n",
    "  at_bats INTEGER,\n",
    "  BB INTEGER,\n",
    "  SB INTEGER,\n",
    "  SO INTEGER,\n",
    "  AVG REAL\n",
    ")\n",
    "```\n",
    "\n",
    "The table contains the following data:\n",
    "\n",
    "year|team |league|doubles|triples|hits|HR|games|runs|RBI|at_bats|BB |SB|SO|AVG\n",
    "----|-----|------|-------|-------|----|--|-----|----|---|-------|---|--|--|------\n",
    "1914|\"BOS\"|\"AL\"  |1      |0      |2   |0 |5    |1   |2  |10     |0  |0 |4 |0.2\n",
    "1915|\"BOS\"|\"AL\"  |10     |1      |29  |4 |42   |16  |21 |92     |9  |0 |23|0.315\n",
    "1916|\"BOS\"|\"AL\"  |5      |3      |37  |3 |67   |18  |15 |136    |10 |0 |23|0.272\n",
    "1917|\"BOS\"|\"AL\"  |6      |3      |40  |2 |52   |14  |12 |123    |12 |0 |18|0.325\n",
    "1918|\"BOS\"|\"AL\"  |26     |11     |95  |11|95   |50  |66 |317    |58 |6 |58|0.3\n",
    "1919|\"BOS\"|\"AL\"  |34     |12     |139 |29|130  |103 |114|432    |101|7 |58|0.322\n",
    "1920|\"NY\" |\"AL\"  |36     |9      |172 |54|142  |158 |137|458    |150|14|80|0.376\n",
    "1921|\"NY\" |\"AL\"  |44     |16     |204 |59|152  |177 |171|540    |145|17|81|0.378\n",
    "1922|\"NY\" |\"AL\"  |24     |8      |128 |35|110  |94  |99 |406    |84 |2 |80|0.315\n",
    "1923|\"NY\" |\"AL\"  |45     |13     |205 |41|152  |151 |131|522    |170|17|93|0.393\n",
    "1924|\"NY\" |\"AL\"  |39     |7      |200 |46|153  |143 |121|529    |142|9 |81|0.378\n",
    "1925|\"NY\" |\"AL\"  |12     |2      |104 |25|98   |61  |66 |359    |59 |2 |68|0.29\n",
    "1926|\"NY\" |\"AL\"  |30     |5      |184 |47|152  |139 |146|495    |144|11|76|0.372\n",
    "1927|\"NY\" |\"AL\"  |29     |8      |192 |60|151  |158 |164|540    |137|7 |89|0.356\n",
    "1928|\"NY\" |\"AL\"  |29     |8      |173 |54|154  |163 |142|536    |137|4 |87|0.323\n",
    "1929|\"NY\" |\"AL\"  |26     |6      |172 |46|135  |121 |154|499    |72 |5 |60|0.345\n",
    "1930|\"NY\" |\"AL\"  |28     |9      |186 |49|145  |150 |153|518    |136|10|61|0.359\n",
    "1931|\"NY\" |\"AL\"  |31     |3      |199 |46|145  |149 |163|534    |128|5 |51|0.373\n",
    "1932|\"NY\" |\"AL\"  |13     |5      |156 |41|133  |120 |137|457    |130|2 |62|0.341\n",
    "1933|\"NY\" |\"AL\"  |21     |3      |138 |34|137  |97  |103|459    |114|4 |90|0.301\n",
    "1934|\"NY\" |\"AL\"  |17     |4      |105 |22|125  |78  |84 |365    |104|1 |63|0.288\n",
    "1935|\"BOS\"|\"NL\"  |0      |0      |13  |6 |28   |13  |12 |72     |20 |0 |24|0.181\n",
    "\n",
    "As you can see, each record in this table represents statistics for a baseball season."
   ]
  },
  {
   "cell_type": "markdown",
   "metadata": {},
   "source": [
    "## Connect to the Database"
   ]
  },
  {
   "cell_type": "markdown",
   "metadata": {},
   "source": [
    "Import `sqlite3` and `pandas`. Then, connect to the database in the `babe_ruth.db` file."
   ]
  },
  {
   "cell_type": "code",
   "execution_count": 1,
   "metadata": {},
   "outputs": [],
   "source": [
    "# Your code here\n",
    "import sqlite3\n",
    "import pandas as pd\n",
    "conn = sqlite3.connect('babe_ruth.db')"
   ]
  },
  {
   "cell_type": "markdown",
   "metadata": {},
   "source": [
    "Now, write SQL queries to answer questions about the data in the `babe_ruth_stats` table. You can display all results using pandas for readability."
   ]
  },
  {
   "cell_type": "markdown",
   "metadata": {},
   "source": [
    "## Total Seasons\n",
    "Return the total number of years that Babe Ruth played professional baseball"
   ]
  },
  {
   "cell_type": "code",
   "execution_count": 10,
   "metadata": {},
   "outputs": [
    {
     "ename": "DatabaseError",
     "evalue": "Execution failed on sql '\nSELECT COUNT(*) AS num-seasons\nFROM babe_ruth_stats\n;\n': near \"-\": syntax error",
     "output_type": "error",
     "traceback": [
      "\u001b[1;31m---------------------------------------------------------------------------\u001b[0m",
      "\u001b[1;31mOperationalError\u001b[0m                          Traceback (most recent call last)",
      "File \u001b[1;32m~\\anaconda3\\Lib\\site-packages\\pandas\\io\\sql.py:2674\u001b[0m, in \u001b[0;36mSQLiteDatabase.execute\u001b[1;34m(self, sql, params)\u001b[0m\n\u001b[0;32m   2673\u001b[0m \u001b[38;5;28;01mtry\u001b[39;00m:\n\u001b[1;32m-> 2674\u001b[0m     cur\u001b[38;5;241m.\u001b[39mexecute(sql, \u001b[38;5;241m*\u001b[39margs)\n\u001b[0;32m   2675\u001b[0m     \u001b[38;5;28;01mreturn\u001b[39;00m cur\n",
      "\u001b[1;31mOperationalError\u001b[0m: near \"-\": syntax error",
      "\nThe above exception was the direct cause of the following exception:\n",
      "\u001b[1;31mDatabaseError\u001b[0m                             Traceback (most recent call last)",
      "Cell \u001b[1;32mIn[10], line 7\u001b[0m\n\u001b[0;32m      1\u001b[0m \u001b[38;5;66;03m# Your code here\u001b[39;00m\n\u001b[0;32m      2\u001b[0m q \u001b[38;5;241m=\u001b[39m \u001b[38;5;124m\"\"\"\u001b[39m\n\u001b[0;32m      3\u001b[0m \u001b[38;5;124mSELECT COUNT(*) AS num-seasons\u001b[39m\n\u001b[0;32m      4\u001b[0m \u001b[38;5;124mFROM babe_ruth_stats\u001b[39m\n\u001b[0;32m      5\u001b[0m \u001b[38;5;124m;\u001b[39m\n\u001b[0;32m      6\u001b[0m \u001b[38;5;124m\"\"\"\u001b[39m\n\u001b[1;32m----> 7\u001b[0m pd\u001b[38;5;241m.\u001b[39mread_sql(q,conn)\n",
      "File \u001b[1;32m~\\anaconda3\\Lib\\site-packages\\pandas\\io\\sql.py:706\u001b[0m, in \u001b[0;36mread_sql\u001b[1;34m(sql, con, index_col, coerce_float, params, parse_dates, columns, chunksize, dtype_backend, dtype)\u001b[0m\n\u001b[0;32m    704\u001b[0m \u001b[38;5;28;01mwith\u001b[39;00m pandasSQL_builder(con) \u001b[38;5;28;01mas\u001b[39;00m pandas_sql:\n\u001b[0;32m    705\u001b[0m     \u001b[38;5;28;01mif\u001b[39;00m \u001b[38;5;28misinstance\u001b[39m(pandas_sql, SQLiteDatabase):\n\u001b[1;32m--> 706\u001b[0m         \u001b[38;5;28;01mreturn\u001b[39;00m pandas_sql\u001b[38;5;241m.\u001b[39mread_query(\n\u001b[0;32m    707\u001b[0m             sql,\n\u001b[0;32m    708\u001b[0m             index_col\u001b[38;5;241m=\u001b[39mindex_col,\n\u001b[0;32m    709\u001b[0m             params\u001b[38;5;241m=\u001b[39mparams,\n\u001b[0;32m    710\u001b[0m             coerce_float\u001b[38;5;241m=\u001b[39mcoerce_float,\n\u001b[0;32m    711\u001b[0m             parse_dates\u001b[38;5;241m=\u001b[39mparse_dates,\n\u001b[0;32m    712\u001b[0m             chunksize\u001b[38;5;241m=\u001b[39mchunksize,\n\u001b[0;32m    713\u001b[0m             dtype_backend\u001b[38;5;241m=\u001b[39mdtype_backend,\n\u001b[0;32m    714\u001b[0m             dtype\u001b[38;5;241m=\u001b[39mdtype,\n\u001b[0;32m    715\u001b[0m         )\n\u001b[0;32m    717\u001b[0m     \u001b[38;5;28;01mtry\u001b[39;00m:\n\u001b[0;32m    718\u001b[0m         _is_table_name \u001b[38;5;241m=\u001b[39m pandas_sql\u001b[38;5;241m.\u001b[39mhas_table(sql)\n",
      "File \u001b[1;32m~\\anaconda3\\Lib\\site-packages\\pandas\\io\\sql.py:2738\u001b[0m, in \u001b[0;36mSQLiteDatabase.read_query\u001b[1;34m(self, sql, index_col, coerce_float, parse_dates, params, chunksize, dtype, dtype_backend)\u001b[0m\n\u001b[0;32m   2727\u001b[0m \u001b[38;5;28;01mdef\u001b[39;00m \u001b[38;5;21mread_query\u001b[39m(\n\u001b[0;32m   2728\u001b[0m     \u001b[38;5;28mself\u001b[39m,\n\u001b[0;32m   2729\u001b[0m     sql,\n\u001b[1;32m   (...)\u001b[0m\n\u001b[0;32m   2736\u001b[0m     dtype_backend: DtypeBackend \u001b[38;5;241m|\u001b[39m Literal[\u001b[38;5;124m\"\u001b[39m\u001b[38;5;124mnumpy\u001b[39m\u001b[38;5;124m\"\u001b[39m] \u001b[38;5;241m=\u001b[39m \u001b[38;5;124m\"\u001b[39m\u001b[38;5;124mnumpy\u001b[39m\u001b[38;5;124m\"\u001b[39m,\n\u001b[0;32m   2737\u001b[0m ) \u001b[38;5;241m-\u001b[39m\u001b[38;5;241m>\u001b[39m DataFrame \u001b[38;5;241m|\u001b[39m Iterator[DataFrame]:\n\u001b[1;32m-> 2738\u001b[0m     cursor \u001b[38;5;241m=\u001b[39m \u001b[38;5;28mself\u001b[39m\u001b[38;5;241m.\u001b[39mexecute(sql, params)\n\u001b[0;32m   2739\u001b[0m     columns \u001b[38;5;241m=\u001b[39m [col_desc[\u001b[38;5;241m0\u001b[39m] \u001b[38;5;28;01mfor\u001b[39;00m col_desc \u001b[38;5;129;01min\u001b[39;00m cursor\u001b[38;5;241m.\u001b[39mdescription]\n\u001b[0;32m   2741\u001b[0m     \u001b[38;5;28;01mif\u001b[39;00m chunksize \u001b[38;5;129;01mis\u001b[39;00m \u001b[38;5;129;01mnot\u001b[39;00m \u001b[38;5;28;01mNone\u001b[39;00m:\n",
      "File \u001b[1;32m~\\anaconda3\\Lib\\site-packages\\pandas\\io\\sql.py:2686\u001b[0m, in \u001b[0;36mSQLiteDatabase.execute\u001b[1;34m(self, sql, params)\u001b[0m\n\u001b[0;32m   2683\u001b[0m     \u001b[38;5;28;01mraise\u001b[39;00m ex \u001b[38;5;28;01mfrom\u001b[39;00m \u001b[38;5;21;01minner_exc\u001b[39;00m\n\u001b[0;32m   2685\u001b[0m ex \u001b[38;5;241m=\u001b[39m DatabaseError(\u001b[38;5;124mf\u001b[39m\u001b[38;5;124m\"\u001b[39m\u001b[38;5;124mExecution failed on sql \u001b[39m\u001b[38;5;124m'\u001b[39m\u001b[38;5;132;01m{\u001b[39;00msql\u001b[38;5;132;01m}\u001b[39;00m\u001b[38;5;124m'\u001b[39m\u001b[38;5;124m: \u001b[39m\u001b[38;5;132;01m{\u001b[39;00mexc\u001b[38;5;132;01m}\u001b[39;00m\u001b[38;5;124m\"\u001b[39m)\n\u001b[1;32m-> 2686\u001b[0m \u001b[38;5;28;01mraise\u001b[39;00m ex \u001b[38;5;28;01mfrom\u001b[39;00m \u001b[38;5;21;01mexc\u001b[39;00m\n",
      "\u001b[1;31mDatabaseError\u001b[0m: Execution failed on sql '\nSELECT COUNT(*) AS num-seasons\nFROM babe_ruth_stats\n;\n': near \"-\": syntax error"
     ]
    }
   ],
   "source": [
    "# Your code here\n",
    "q = \"\"\"\n",
    "SELECT COUNT(*) AS num-seasons\n",
    "FROM babe_ruth_stats\n",
    ";\n",
    "\"\"\"\n",
    "pd.read_sql(q,conn)\n"
   ]
  },
  {
   "cell_type": "markdown",
   "metadata": {},
   "source": [
    "## Seasons with NY\n",
    "Return the total number of years Babe Ruth played with the NY Yankees (i.e. where the `team` value is `\"NY\"`)."
   ]
  },
  {
   "cell_type": "code",
   "execution_count": 9,
   "metadata": {},
   "outputs": [
    {
     "data": {
      "text/html": [
       "<div>\n",
       "<style scoped>\n",
       "    .dataframe tbody tr th:only-of-type {\n",
       "        vertical-align: middle;\n",
       "    }\n",
       "\n",
       "    .dataframe tbody tr th {\n",
       "        vertical-align: top;\n",
       "    }\n",
       "\n",
       "    .dataframe thead th {\n",
       "        text-align: right;\n",
       "    }\n",
       "</style>\n",
       "<table border=\"1\" class=\"dataframe\">\n",
       "  <thead>\n",
       "    <tr style=\"text-align: right;\">\n",
       "      <th></th>\n",
       "      <th>num_seasons_ny</th>\n",
       "    </tr>\n",
       "  </thead>\n",
       "  <tbody>\n",
       "    <tr>\n",
       "      <th>0</th>\n",
       "      <td>15</td>\n",
       "    </tr>\n",
       "  </tbody>\n",
       "</table>\n",
       "</div>"
      ],
      "text/plain": [
       "   num_seasons_ny\n",
       "0              15"
      ]
     },
     "execution_count": 9,
     "metadata": {},
     "output_type": "execute_result"
    }
   ],
   "source": [
    "# Your code here\n",
    "q = \"\"\"\n",
    "SELECT COUNT(*) AS num_seasons_ny\n",
    "FROM babe_ruth_stats\n",
    "WHERE team = \"NY\"\n",
    ";\n",
    "\"\"\"\n",
    "pd.read_sql(q,conn)"
   ]
  },
  {
   "cell_type": "markdown",
   "metadata": {},
   "source": [
    "## Most Home Runs\n",
    "\n",
    "Return the row with the most HR that Babe Ruth hit in one season."
   ]
  },
  {
   "cell_type": "code",
   "execution_count": 11,
   "metadata": {},
   "outputs": [
    {
     "data": {
      "text/html": [
       "<div>\n",
       "<style scoped>\n",
       "    .dataframe tbody tr th:only-of-type {\n",
       "        vertical-align: middle;\n",
       "    }\n",
       "\n",
       "    .dataframe tbody tr th {\n",
       "        vertical-align: top;\n",
       "    }\n",
       "\n",
       "    .dataframe thead th {\n",
       "        text-align: right;\n",
       "    }\n",
       "</style>\n",
       "<table border=\"1\" class=\"dataframe\">\n",
       "  <thead>\n",
       "    <tr style=\"text-align: right;\">\n",
       "      <th></th>\n",
       "      <th>id</th>\n",
       "      <th>year</th>\n",
       "      <th>team</th>\n",
       "      <th>league</th>\n",
       "      <th>doubles</th>\n",
       "      <th>triples</th>\n",
       "      <th>hits</th>\n",
       "      <th>HR</th>\n",
       "      <th>games</th>\n",
       "      <th>runs</th>\n",
       "      <th>RBI</th>\n",
       "      <th>at_bats</th>\n",
       "      <th>BB</th>\n",
       "      <th>SB</th>\n",
       "      <th>SO</th>\n",
       "      <th>AVG</th>\n",
       "    </tr>\n",
       "  </thead>\n",
       "  <tbody>\n",
       "    <tr>\n",
       "      <th>0</th>\n",
       "      <td>14</td>\n",
       "      <td>1927</td>\n",
       "      <td>NY</td>\n",
       "      <td>AL</td>\n",
       "      <td>29</td>\n",
       "      <td>8</td>\n",
       "      <td>192</td>\n",
       "      <td>60</td>\n",
       "      <td>151</td>\n",
       "      <td>158</td>\n",
       "      <td>164</td>\n",
       "      <td>540</td>\n",
       "      <td>137</td>\n",
       "      <td>7</td>\n",
       "      <td>89</td>\n",
       "      <td>0.356</td>\n",
       "    </tr>\n",
       "  </tbody>\n",
       "</table>\n",
       "</div>"
      ],
      "text/plain": [
       "   id  year team league  doubles  triples  hits  HR  games  runs  RBI  \\\n",
       "0  14  1927   NY     AL       29        8   192  60    151   158  164   \n",
       "\n",
       "   at_bats   BB  SB  SO    AVG  \n",
       "0      540  137   7  89  0.356  "
      ]
     },
     "execution_count": 11,
     "metadata": {},
     "output_type": "execute_result"
    }
   ],
   "source": [
    "# Your code here\n",
    "q = \"\"\"\n",
    "SELECT*\n",
    "FROM babe_ruth_stats\n",
    "ORDER BY HR DESC\n",
    "LIMIT 1;\n",
    "\"\"\"\n",
    "pd.read_sql(q,conn)"
   ]
  },
  {
   "cell_type": "markdown",
   "metadata": {},
   "source": [
    "## Least HR\n",
    "Select the row with the least number of HR hit in one season."
   ]
  },
  {
   "cell_type": "code",
   "execution_count": 12,
   "metadata": {},
   "outputs": [
    {
     "data": {
      "text/html": [
       "<div>\n",
       "<style scoped>\n",
       "    .dataframe tbody tr th:only-of-type {\n",
       "        vertical-align: middle;\n",
       "    }\n",
       "\n",
       "    .dataframe tbody tr th {\n",
       "        vertical-align: top;\n",
       "    }\n",
       "\n",
       "    .dataframe thead th {\n",
       "        text-align: right;\n",
       "    }\n",
       "</style>\n",
       "<table border=\"1\" class=\"dataframe\">\n",
       "  <thead>\n",
       "    <tr style=\"text-align: right;\">\n",
       "      <th></th>\n",
       "      <th>id</th>\n",
       "      <th>year</th>\n",
       "      <th>team</th>\n",
       "      <th>league</th>\n",
       "      <th>doubles</th>\n",
       "      <th>triples</th>\n",
       "      <th>hits</th>\n",
       "      <th>HR</th>\n",
       "      <th>games</th>\n",
       "      <th>runs</th>\n",
       "      <th>RBI</th>\n",
       "      <th>at_bats</th>\n",
       "      <th>BB</th>\n",
       "      <th>SB</th>\n",
       "      <th>SO</th>\n",
       "      <th>AVG</th>\n",
       "    </tr>\n",
       "  </thead>\n",
       "  <tbody>\n",
       "    <tr>\n",
       "      <th>0</th>\n",
       "      <td>1</td>\n",
       "      <td>1914</td>\n",
       "      <td>BOS</td>\n",
       "      <td>AL</td>\n",
       "      <td>1</td>\n",
       "      <td>0</td>\n",
       "      <td>2</td>\n",
       "      <td>0</td>\n",
       "      <td>5</td>\n",
       "      <td>1</td>\n",
       "      <td>2</td>\n",
       "      <td>10</td>\n",
       "      <td>0</td>\n",
       "      <td>0</td>\n",
       "      <td>4</td>\n",
       "      <td>0.2</td>\n",
       "    </tr>\n",
       "  </tbody>\n",
       "</table>\n",
       "</div>"
      ],
      "text/plain": [
       "   id  year team league  doubles  triples  hits  HR  games  runs  RBI  \\\n",
       "0   1  1914  BOS     AL        1        0     2   0      5     1    2   \n",
       "\n",
       "   at_bats  BB  SB  SO  AVG  \n",
       "0       10   0   0   4  0.2  "
      ]
     },
     "execution_count": 12,
     "metadata": {},
     "output_type": "execute_result"
    }
   ],
   "source": [
    "# Your code here\n",
    "q = \"\"\"\n",
    "SELECT*\n",
    "FROM babe_ruth_stats\n",
    "ORDER BY HR\n",
    "LIMIT 1 ;\n",
    "\"\"\"\n",
    "pd.read_sql(q,conn)"
   ]
  },
  {
   "cell_type": "markdown",
   "metadata": {},
   "source": [
    "## Total HR\n",
    "Return the total number of HR hit by Babe Ruth during his career."
   ]
  },
  {
   "cell_type": "code",
   "execution_count": 13,
   "metadata": {},
   "outputs": [
    {
     "data": {
      "text/html": [
       "<div>\n",
       "<style scoped>\n",
       "    .dataframe tbody tr th:only-of-type {\n",
       "        vertical-align: middle;\n",
       "    }\n",
       "\n",
       "    .dataframe tbody tr th {\n",
       "        vertical-align: top;\n",
       "    }\n",
       "\n",
       "    .dataframe thead th {\n",
       "        text-align: right;\n",
       "    }\n",
       "</style>\n",
       "<table border=\"1\" class=\"dataframe\">\n",
       "  <thead>\n",
       "    <tr style=\"text-align: right;\">\n",
       "      <th></th>\n",
       "      <th>total_home_runs</th>\n",
       "    </tr>\n",
       "  </thead>\n",
       "  <tbody>\n",
       "    <tr>\n",
       "      <th>0</th>\n",
       "      <td>714</td>\n",
       "    </tr>\n",
       "  </tbody>\n",
       "</table>\n",
       "</div>"
      ],
      "text/plain": [
       "   total_home_runs\n",
       "0              714"
      ]
     },
     "execution_count": 13,
     "metadata": {},
     "output_type": "execute_result"
    }
   ],
   "source": [
    "# Your code here\n",
    "q = \"\"\"\n",
    "SELECT SUM(HR) AS total_home_runs\n",
    "FROM babe_ruth_stats\n",
    ";\n",
    "\"\"\"\n",
    "pd.read_sql(q,conn)"
   ]
  },
  {
   "cell_type": "markdown",
   "metadata": {},
   "source": [
    "##  Five Worst HR Seasons With at Least 100 Games Played\n",
    "Above you saw that Babe Ruth hit 0 home runs in his first year when he played only five games.  To avoid this and other extreme  outliers, first filter the data to include only those years in which Ruth played in at least 100 games. Then, select all of the columns for the 5 worst seasons, in terms of the number of home runs, where he played over 100 games."
   ]
  },
  {
   "cell_type": "code",
   "execution_count": 14,
   "metadata": {},
   "outputs": [
    {
     "data": {
      "text/html": [
       "<div>\n",
       "<style scoped>\n",
       "    .dataframe tbody tr th:only-of-type {\n",
       "        vertical-align: middle;\n",
       "    }\n",
       "\n",
       "    .dataframe tbody tr th {\n",
       "        vertical-align: top;\n",
       "    }\n",
       "\n",
       "    .dataframe thead th {\n",
       "        text-align: right;\n",
       "    }\n",
       "</style>\n",
       "<table border=\"1\" class=\"dataframe\">\n",
       "  <thead>\n",
       "    <tr style=\"text-align: right;\">\n",
       "      <th></th>\n",
       "      <th>id</th>\n",
       "      <th>year</th>\n",
       "      <th>team</th>\n",
       "      <th>league</th>\n",
       "      <th>doubles</th>\n",
       "      <th>triples</th>\n",
       "      <th>hits</th>\n",
       "      <th>HR</th>\n",
       "      <th>games</th>\n",
       "      <th>runs</th>\n",
       "      <th>RBI</th>\n",
       "      <th>at_bats</th>\n",
       "      <th>BB</th>\n",
       "      <th>SB</th>\n",
       "      <th>SO</th>\n",
       "      <th>AVG</th>\n",
       "    </tr>\n",
       "  </thead>\n",
       "  <tbody>\n",
       "    <tr>\n",
       "      <th>0</th>\n",
       "      <td>21</td>\n",
       "      <td>1934</td>\n",
       "      <td>NY</td>\n",
       "      <td>AL</td>\n",
       "      <td>17</td>\n",
       "      <td>4</td>\n",
       "      <td>105</td>\n",
       "      <td>22</td>\n",
       "      <td>125</td>\n",
       "      <td>78</td>\n",
       "      <td>84</td>\n",
       "      <td>365</td>\n",
       "      <td>104</td>\n",
       "      <td>1</td>\n",
       "      <td>63</td>\n",
       "      <td>0.288</td>\n",
       "    </tr>\n",
       "    <tr>\n",
       "      <th>1</th>\n",
       "      <td>6</td>\n",
       "      <td>1919</td>\n",
       "      <td>BOS</td>\n",
       "      <td>AL</td>\n",
       "      <td>34</td>\n",
       "      <td>12</td>\n",
       "      <td>139</td>\n",
       "      <td>29</td>\n",
       "      <td>130</td>\n",
       "      <td>103</td>\n",
       "      <td>114</td>\n",
       "      <td>432</td>\n",
       "      <td>101</td>\n",
       "      <td>7</td>\n",
       "      <td>58</td>\n",
       "      <td>0.322</td>\n",
       "    </tr>\n",
       "    <tr>\n",
       "      <th>2</th>\n",
       "      <td>20</td>\n",
       "      <td>1933</td>\n",
       "      <td>NY</td>\n",
       "      <td>AL</td>\n",
       "      <td>21</td>\n",
       "      <td>3</td>\n",
       "      <td>138</td>\n",
       "      <td>34</td>\n",
       "      <td>137</td>\n",
       "      <td>97</td>\n",
       "      <td>103</td>\n",
       "      <td>459</td>\n",
       "      <td>114</td>\n",
       "      <td>4</td>\n",
       "      <td>90</td>\n",
       "      <td>0.301</td>\n",
       "    </tr>\n",
       "    <tr>\n",
       "      <th>3</th>\n",
       "      <td>9</td>\n",
       "      <td>1922</td>\n",
       "      <td>NY</td>\n",
       "      <td>AL</td>\n",
       "      <td>24</td>\n",
       "      <td>8</td>\n",
       "      <td>128</td>\n",
       "      <td>35</td>\n",
       "      <td>110</td>\n",
       "      <td>94</td>\n",
       "      <td>99</td>\n",
       "      <td>406</td>\n",
       "      <td>84</td>\n",
       "      <td>2</td>\n",
       "      <td>80</td>\n",
       "      <td>0.315</td>\n",
       "    </tr>\n",
       "    <tr>\n",
       "      <th>4</th>\n",
       "      <td>10</td>\n",
       "      <td>1923</td>\n",
       "      <td>NY</td>\n",
       "      <td>AL</td>\n",
       "      <td>45</td>\n",
       "      <td>13</td>\n",
       "      <td>205</td>\n",
       "      <td>41</td>\n",
       "      <td>152</td>\n",
       "      <td>151</td>\n",
       "      <td>131</td>\n",
       "      <td>522</td>\n",
       "      <td>170</td>\n",
       "      <td>17</td>\n",
       "      <td>93</td>\n",
       "      <td>0.393</td>\n",
       "    </tr>\n",
       "  </tbody>\n",
       "</table>\n",
       "</div>"
      ],
      "text/plain": [
       "   id  year team league  doubles  triples  hits  HR  games  runs  RBI  \\\n",
       "0  21  1934   NY     AL       17        4   105  22    125    78   84   \n",
       "1   6  1919  BOS     AL       34       12   139  29    130   103  114   \n",
       "2  20  1933   NY     AL       21        3   138  34    137    97  103   \n",
       "3   9  1922   NY     AL       24        8   128  35    110    94   99   \n",
       "4  10  1923   NY     AL       45       13   205  41    152   151  131   \n",
       "\n",
       "   at_bats   BB  SB  SO    AVG  \n",
       "0      365  104   1  63  0.288  \n",
       "1      432  101   7  58  0.322  \n",
       "2      459  114   4  90  0.301  \n",
       "3      406   84   2  80  0.315  \n",
       "4      522  170  17  93  0.393  "
      ]
     },
     "execution_count": 14,
     "metadata": {},
     "output_type": "execute_result"
    }
   ],
   "source": [
    "# Your code here\n",
    "q = \"\"\"\n",
    "SELECT *\n",
    "FROM babe_ruth_stats\n",
    "WHERE games > 100\n",
    "ORDER BY HR\n",
    "LIMIT 5;\n",
    "\"\"\"\n",
    "pd.read_sql(q,conn)"
   ]
  },
  {
   "cell_type": "markdown",
   "metadata": {},
   "source": [
    "## Average Batting Average\n",
    "Select the average, `AVG`, of Ruth's batting averages.  The header of the result would be `AVG(AVG)` which is quite confusing, so provide an alias of `career_average`."
   ]
  },
  {
   "cell_type": "code",
   "execution_count": 16,
   "metadata": {},
   "outputs": [
    {
     "data": {
      "text/html": [
       "<div>\n",
       "<style scoped>\n",
       "    .dataframe tbody tr th:only-of-type {\n",
       "        vertical-align: middle;\n",
       "    }\n",
       "\n",
       "    .dataframe tbody tr th {\n",
       "        vertical-align: top;\n",
       "    }\n",
       "\n",
       "    .dataframe thead th {\n",
       "        text-align: right;\n",
       "    }\n",
       "</style>\n",
       "<table border=\"1\" class=\"dataframe\">\n",
       "  <thead>\n",
       "    <tr style=\"text-align: right;\">\n",
       "      <th></th>\n",
       "      <th>career_average</th>\n",
       "    </tr>\n",
       "  </thead>\n",
       "  <tbody>\n",
       "    <tr>\n",
       "      <th>0</th>\n",
       "      <td>0.322864</td>\n",
       "    </tr>\n",
       "  </tbody>\n",
       "</table>\n",
       "</div>"
      ],
      "text/plain": [
       "   career_average\n",
       "0        0.322864"
      ]
     },
     "execution_count": 16,
     "metadata": {},
     "output_type": "execute_result"
    }
   ],
   "source": [
    "# Your code here\n",
    "q =\"\"\"\n",
    "SELECT AVG(AVG) AS career_average\n",
    "FROM babe_ruth_stats\n",
    ";\n",
    "\"\"\"\n",
    "pd.read_sql(q,conn)"
   ]
  },
  {
   "cell_type": "markdown",
   "metadata": {},
   "source": [
    "## Number of Years with Over 300 Times On Base\n",
    "We want to know the years in which Ruth successfully reached base over 300 times.  We need to add `hits` and `BB` to calculate how many times Ruth reached base.  Simply add the two columns together (ie: `SELECT [columnName] + [columnName] AS ...`) and give this value an alias of `on_base`.  Select the `year` and `on_base` for only those years with an `on_base` over 300.  "
   ]
  },
  {
   "cell_type": "code",
   "execution_count": 20,
   "metadata": {},
   "outputs": [
    {
     "data": {
      "text/html": [
       "<div>\n",
       "<style scoped>\n",
       "    .dataframe tbody tr th:only-of-type {\n",
       "        vertical-align: middle;\n",
       "    }\n",
       "\n",
       "    .dataframe tbody tr th {\n",
       "        vertical-align: top;\n",
       "    }\n",
       "\n",
       "    .dataframe thead th {\n",
       "        text-align: right;\n",
       "    }\n",
       "</style>\n",
       "<table border=\"1\" class=\"dataframe\">\n",
       "  <thead>\n",
       "    <tr style=\"text-align: right;\">\n",
       "      <th></th>\n",
       "      <th>year</th>\n",
       "      <th>on_base</th>\n",
       "    </tr>\n",
       "  </thead>\n",
       "  <tbody>\n",
       "    <tr>\n",
       "      <th>0</th>\n",
       "      <td>1923</td>\n",
       "      <td>375</td>\n",
       "    </tr>\n",
       "    <tr>\n",
       "      <th>1</th>\n",
       "      <td>1921</td>\n",
       "      <td>349</td>\n",
       "    </tr>\n",
       "    <tr>\n",
       "      <th>2</th>\n",
       "      <td>1924</td>\n",
       "      <td>342</td>\n",
       "    </tr>\n",
       "    <tr>\n",
       "      <th>3</th>\n",
       "      <td>1927</td>\n",
       "      <td>329</td>\n",
       "    </tr>\n",
       "    <tr>\n",
       "      <th>4</th>\n",
       "      <td>1926</td>\n",
       "      <td>328</td>\n",
       "    </tr>\n",
       "    <tr>\n",
       "      <th>5</th>\n",
       "      <td>1931</td>\n",
       "      <td>327</td>\n",
       "    </tr>\n",
       "    <tr>\n",
       "      <th>6</th>\n",
       "      <td>1920</td>\n",
       "      <td>322</td>\n",
       "    </tr>\n",
       "    <tr>\n",
       "      <th>7</th>\n",
       "      <td>1930</td>\n",
       "      <td>322</td>\n",
       "    </tr>\n",
       "    <tr>\n",
       "      <th>8</th>\n",
       "      <td>1928</td>\n",
       "      <td>310</td>\n",
       "    </tr>\n",
       "  </tbody>\n",
       "</table>\n",
       "</div>"
      ],
      "text/plain": [
       "   year  on_base\n",
       "0  1923      375\n",
       "1  1921      349\n",
       "2  1924      342\n",
       "3  1927      329\n",
       "4  1926      328\n",
       "5  1931      327\n",
       "6  1920      322\n",
       "7  1930      322\n",
       "8  1928      310"
      ]
     },
     "execution_count": 20,
     "metadata": {},
     "output_type": "execute_result"
    }
   ],
   "source": [
    "# Your code here\n",
    "q = \"\"\"\n",
    "SELECT year,hits+BB AS on_base\n",
    "FROM babe_ruth_stats\n",
    "WHERE on_base > 300\n",
    "ORDER BY on_base DESC\n",
    ";\n",
    "\"\"\"\n",
    "pd.read_sql(q,conn)"
   ]
  },
  {
   "cell_type": "markdown",
   "metadata": {},
   "source": [
    "## Total Years and Hits Per Team\n",
    "Select the total number of years played (as `num_seasons`) and total hits (as `total_hits`) Babe Ruth had for each team he played for. The result should have 2 rows, one for each team."
   ]
  },
  {
   "cell_type": "code",
   "execution_count": 22,
   "metadata": {},
   "outputs": [
    {
     "data": {
      "text/html": [
       "<div>\n",
       "<style scoped>\n",
       "    .dataframe tbody tr th:only-of-type {\n",
       "        vertical-align: middle;\n",
       "    }\n",
       "\n",
       "    .dataframe tbody tr th {\n",
       "        vertical-align: top;\n",
       "    }\n",
       "\n",
       "    .dataframe thead th {\n",
       "        text-align: right;\n",
       "    }\n",
       "</style>\n",
       "<table border=\"1\" class=\"dataframe\">\n",
       "  <thead>\n",
       "    <tr style=\"text-align: right;\">\n",
       "      <th></th>\n",
       "      <th>team</th>\n",
       "      <th>num_seasons</th>\n",
       "      <th>total_hits</th>\n",
       "    </tr>\n",
       "  </thead>\n",
       "  <tbody>\n",
       "    <tr>\n",
       "      <th>0</th>\n",
       "      <td>BOS</td>\n",
       "      <td>7</td>\n",
       "      <td>355</td>\n",
       "    </tr>\n",
       "    <tr>\n",
       "      <th>1</th>\n",
       "      <td>NY</td>\n",
       "      <td>15</td>\n",
       "      <td>2518</td>\n",
       "    </tr>\n",
       "  </tbody>\n",
       "</table>\n",
       "</div>"
      ],
      "text/plain": [
       "  team  num_seasons  total_hits\n",
       "0  BOS            7         355\n",
       "1   NY           15        2518"
      ]
     },
     "execution_count": 22,
     "metadata": {},
     "output_type": "execute_result"
    }
   ],
   "source": [
    "# Your code here\n",
    "q=\"\"\"\n",
    "SELECT team,COUNT(*) AS num_seasons,SUM(hits) AS total_hits\n",
    "FROM babe_ruth_stats\n",
    "GROUP BY team\n",
    ";\n",
    "\"\"\"\n",
    "pd.read_sql(q,conn)"
   ]
  },
  {
   "cell_type": "markdown",
   "metadata": {},
   "source": [
    "## Teams with More than 10 Seasons\n",
    "Repeat the above query, this time only including teams where he played for more than 10 years.\n",
    "\n",
    "**Hint:** Think about whether this filtering occurs before or after the `GROUP BY`. If before, that's a `WHERE`. If after, that's a `HAVING`."
   ]
  },
  {
   "cell_type": "code",
   "execution_count": 23,
   "metadata": {},
   "outputs": [
    {
     "data": {
      "text/html": [
       "<div>\n",
       "<style scoped>\n",
       "    .dataframe tbody tr th:only-of-type {\n",
       "        vertical-align: middle;\n",
       "    }\n",
       "\n",
       "    .dataframe tbody tr th {\n",
       "        vertical-align: top;\n",
       "    }\n",
       "\n",
       "    .dataframe thead th {\n",
       "        text-align: right;\n",
       "    }\n",
       "</style>\n",
       "<table border=\"1\" class=\"dataframe\">\n",
       "  <thead>\n",
       "    <tr style=\"text-align: right;\">\n",
       "      <th></th>\n",
       "      <th>team</th>\n",
       "      <th>num_seasons</th>\n",
       "      <th>total_hits</th>\n",
       "    </tr>\n",
       "  </thead>\n",
       "  <tbody>\n",
       "    <tr>\n",
       "      <th>0</th>\n",
       "      <td>NY</td>\n",
       "      <td>15</td>\n",
       "      <td>2518</td>\n",
       "    </tr>\n",
       "  </tbody>\n",
       "</table>\n",
       "</div>"
      ],
      "text/plain": [
       "  team  num_seasons  total_hits\n",
       "0   NY           15        2518"
      ]
     },
     "execution_count": 23,
     "metadata": {},
     "output_type": "execute_result"
    }
   ],
   "source": [
    "# Your code here\n",
    "q = \"\"\"\n",
    "SELECT team,COUNT(*) AS num_seasons,SUM (hits) AS total_hits\n",
    "FROM babe_ruth_stats\n",
    "GROUP BY team\n",
    "HAVING num_seasons > 10;\n",
    "\"\"\"\n",
    "pd.read_sql(q,conn)"
   ]
  },
  {
   "cell_type": "markdown",
   "metadata": {},
   "source": [
    "## Team with Highest Average At Bats\n",
    "\n",
    "Select the name of the team and the average at bats per season (as `average_at_bats`), for the team where he averaged the highest at bats."
   ]
  },
  {
   "cell_type": "code",
   "execution_count": 26,
   "metadata": {},
   "outputs": [
    {
     "data": {
      "text/html": [
       "<div>\n",
       "<style scoped>\n",
       "    .dataframe tbody tr th:only-of-type {\n",
       "        vertical-align: middle;\n",
       "    }\n",
       "\n",
       "    .dataframe tbody tr th {\n",
       "        vertical-align: top;\n",
       "    }\n",
       "\n",
       "    .dataframe thead th {\n",
       "        text-align: right;\n",
       "    }\n",
       "</style>\n",
       "<table border=\"1\" class=\"dataframe\">\n",
       "  <thead>\n",
       "    <tr style=\"text-align: right;\">\n",
       "      <th></th>\n",
       "      <th>team</th>\n",
       "      <th>average_at_bats</th>\n",
       "    </tr>\n",
       "  </thead>\n",
       "  <tbody>\n",
       "    <tr>\n",
       "      <th>0</th>\n",
       "      <td>NY</td>\n",
       "      <td>481.133333</td>\n",
       "    </tr>\n",
       "    <tr>\n",
       "      <th>1</th>\n",
       "      <td>BOS</td>\n",
       "      <td>168.857143</td>\n",
       "    </tr>\n",
       "  </tbody>\n",
       "</table>\n",
       "</div>"
      ],
      "text/plain": [
       "  team  average_at_bats\n",
       "0   NY       481.133333\n",
       "1  BOS       168.857143"
      ]
     },
     "execution_count": 26,
     "metadata": {},
     "output_type": "execute_result"
    }
   ],
   "source": [
    "# Your code here\n",
    "q = \"\"\"\n",
    "SELECT team,AVG(at_bats) AS average_at_bats\n",
    "FROM babe_ruth_stats\n",
    "GROUP BY team\n",
    "ORDER BY average_at_bats DESC\n",
    ";\n",
    "\"\"\"\n",
    "pd.read_sql(q,conn)"
   ]
  },
  {
   "cell_type": "markdown",
   "metadata": {},
   "source": [
    "## Teams with Average At Bats Over 100\n",
    "\n",
    "Repeat the above query, this time returning all teams where the `average_at_bats` was over 100."
   ]
  },
  {
   "cell_type": "code",
   "execution_count": null,
   "metadata": {},
   "outputs": [],
   "source": [
    "# Your code here\n",
    "q =\"\"\"\n",
    "SELECT team,AVG(at_bats) AS average_at_bats\n",
    "FROM babe_ruth_stats\n",
    "GROUP BY team\n",
    "HAVING average_at_bats > 100"
   ]
  },
  {
   "cell_type": "markdown",
   "metadata": {},
   "source": [
    "## Summary"
   ]
  },
  {
   "cell_type": "markdown",
   "metadata": {},
   "source": [
    "Well done! In this lab, you continued to add complexity to SQL statements, which included using some aggregate functions, the `GROUP BY` statement, and the `HAVING` statement. You wrote queries that showed Babe Ruth's total years and home runs per team as well as selected only years that met a minimum value of our calculated on base attribute. "
   ]
  }
 ],
 "metadata": {
  "kernelspec": {
   "display_name": "Python 3 (ipykernel)",
   "language": "python",
   "name": "python3"
  },
  "language_info": {
   "codemirror_mode": {
    "name": "ipython",
    "version": 3
   },
   "file_extension": ".py",
   "mimetype": "text/x-python",
   "name": "python",
   "nbconvert_exporter": "python",
   "pygments_lexer": "ipython3",
   "version": "3.12.7"
  },
  "toc": {
   "base_numbering": 1,
   "nav_menu": {},
   "number_sections": true,
   "sideBar": true,
   "skip_h1_title": false,
   "title_cell": "Table of Contents",
   "title_sidebar": "Contents",
   "toc_cell": false,
   "toc_position": {},
   "toc_section_display": true,
   "toc_window_display": false
  }
 },
 "nbformat": 4,
 "nbformat_minor": 4
}
